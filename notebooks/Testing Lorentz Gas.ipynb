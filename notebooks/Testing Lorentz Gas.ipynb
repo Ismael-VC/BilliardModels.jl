{
 "metadata": {
  "language": "Julia",
  "name": "",
  "signature": "sha256:330388e822a7187976ad152613402f17777b11f3534acc3254407231fa839651"
 },
 "nbformat": 3,
 "nbformat_minor": 0,
 "worksheets": [
  {
   "cells": [
    {
     "cell_type": "code",
     "collapsed": false,
     "input": [
      "using BilliardModels\n",
      "\n",
      "using PyCall\n",
      "using PyPlot"
     ],
     "language": "python",
     "metadata": {},
     "outputs": []
    },
    {
     "cell_type": "markdown",
     "metadata": {},
     "source": [
      "[Link to heading](#Heading)"
     ]
    },
    {
     "cell_type": "heading",
     "level": 1,
     "metadata": {},
     "source": [
      "Basic object construction"
     ]
    },
    {
     "cell_type": "code",
     "collapsed": false,
     "input": [
      "w = Vector2D(3, 4)"
     ],
     "language": "python",
     "metadata": {},
     "outputs": []
    },
    {
     "cell_type": "code",
     "collapsed": false,
     "input": [
      "v = Vector2D([3., 4.])"
     ],
     "language": "python",
     "metadata": {},
     "outputs": []
    },
    {
     "cell_type": "code",
     "collapsed": false,
     "input": [
      "p = Particle(v,v)\n",
      "q = Particle(w,w)"
     ],
     "language": "python",
     "metadata": {},
     "outputs": []
    },
    {
     "cell_type": "code",
     "collapsed": false,
     "input": [
      "p = Particle([1.,2.],[3.,4.])"
     ],
     "language": "python",
     "metadata": {},
     "outputs": []
    },
    {
     "cell_type": "code",
     "collapsed": false,
     "input": [
      "d = Disc([1,2],3)"
     ],
     "language": "python",
     "metadata": {},
     "outputs": []
    },
    {
     "cell_type": "code",
     "collapsed": false,
     "input": [
      "d = Disc([1.,2.],3)"
     ],
     "language": "python",
     "metadata": {},
     "outputs": []
    },
    {
     "cell_type": "heading",
     "level": 2,
     "metadata": {},
     "source": [
      "Testing with validated numerics:"
     ]
    },
    {
     "cell_type": "code",
     "collapsed": false,
     "input": [
      "using ValidatedNumerics"
     ],
     "language": "python",
     "metadata": {},
     "outputs": []
    },
    {
     "cell_type": "code",
     "collapsed": false,
     "input": [
      "p = Particle([@interval(0.1), @interval(0.1)], [@interval(1), @interval(0)])"
     ],
     "language": "python",
     "metadata": {},
     "outputs": []
    },
    {
     "cell_type": "heading",
     "level": 1,
     "metadata": {},
     "source": [
      "Collisions"
     ]
    },
    {
     "cell_type": "code",
     "collapsed": false,
     "input": [
      "d = Disc([0, 0], 1)\n",
      "p = Particle([-2, 0], [1, 0])\n",
      "\n",
      "@assert collision_time(p, d) == 1\n",
      "\n",
      "p = Particle([0, 0], [1, 0])\n",
      "l = Plane([1, 0], [1, 0])\n",
      "@assert collision_time(p, l) == 1"
     ],
     "language": "python",
     "metadata": {},
     "outputs": []
    },
    {
     "cell_type": "code",
     "collapsed": false,
     "input": [
      "table = Sinai_billiard(0.1)"
     ],
     "language": "python",
     "metadata": {},
     "outputs": []
    },
    {
     "cell_type": "code",
     "collapsed": false,
     "input": [
      "p = Particle([0.3, 0], [1, 0.1])\n",
      "\n",
      "for obstacle in table.obstacles\n",
      "    @show obstacle\n",
      "    @show collision_time(p, obstacle)\n",
      "    println()\n",
      "end"
     ],
     "language": "python",
     "metadata": {},
     "outputs": []
    },
    {
     "cell_type": "code",
     "collapsed": false,
     "input": [
      "calculate_next_collision(p, table, nothing)"
     ],
     "language": "python",
     "metadata": {},
     "outputs": []
    },
    {
     "cell_type": "code",
     "collapsed": false,
     "input": [
      "xs = billiard_dynamics(p, table, 100)"
     ],
     "language": "python",
     "metadata": {},
     "outputs": []
    },
    {
     "cell_type": "code",
     "collapsed": false,
     "input": [
      "@pyimport matplotlib.patches as patches"
     ],
     "language": "python",
     "metadata": {},
     "outputs": []
    },
    {
     "cell_type": "code",
     "collapsed": false,
     "input": [
      "fig, axes = plt.subplots();"
     ],
     "language": "python",
     "metadata": {},
     "outputs": []
    },
    {
     "cell_type": "code",
     "collapsed": false,
     "input": [
      "include(\"../src/BilliardVisualisation.jl\")"
     ],
     "language": "python",
     "metadata": {},
     "outputs": []
    },
    {
     "cell_type": "code",
     "collapsed": false,
     "input": [
      "axes"
     ],
     "language": "python",
     "metadata": {},
     "outputs": []
    },
    {
     "cell_type": "code",
     "collapsed": false,
     "input": [
      "draw(table, axes);  # obstacles\n",
      "draw(xs, axes);  # trajectory\n",
      "#sca(axes)\n",
      "axes[:axis](\"image\")"
     ],
     "language": "python",
     "metadata": {},
     "outputs": []
    },
    {
     "cell_type": "code",
     "collapsed": false,
     "input": [
      "fig  # display the figure"
     ],
     "language": "python",
     "metadata": {},
     "outputs": []
    },
    {
     "cell_type": "code",
     "collapsed": false,
     "input": [
      "p2 = Particle([0.3, 0], [1, 0.101])\n",
      "xs2 = billiard_dynamics(p2, table, 100)\n",
      "draw(xs2, axes);\n",
      "fig"
     ],
     "language": "python",
     "metadata": {},
     "outputs": []
    },
    {
     "cell_type": "heading",
     "level": 1,
     "metadata": {},
     "source": [
      "Using widgets:"
     ]
    },
    {
     "cell_type": "code",
     "collapsed": false,
     "input": [
      "using BilliardModels\n",
      "\n",
      "using PyCall\n",
      "using PyPlot\n",
      "\n",
      "include(\"../src/BilliardVisualisation.jl\")"
     ],
     "language": "python",
     "metadata": {},
     "outputs": []
    },
    {
     "cell_type": "code",
     "collapsed": false,
     "input": [
      "using Interact"
     ],
     "language": "python",
     "metadata": {},
     "outputs": []
    },
    {
     "cell_type": "code",
     "collapsed": false,
     "input": [
      "fig, axes = plt.subplots();"
     ],
     "language": "python",
     "metadata": {},
     "outputs": []
    },
    {
     "cell_type": "code",
     "collapsed": false,
     "input": [
      "table = Sinai_billiard(0.1)\n",
      "\n",
      "p = Particle([0.3, 0], [1, 0.1])\n",
      "xs = billiard_dynamics(p, table, 50)\n",
      "\n",
      "bdraw(table, axes);\n",
      "axes[:axis](\"image\")\n",
      "\n",
      "line = axes[:plot]([], [])[1]\n",
      "\n",
      "@manipulate for N=1:length(xs)\n",
      "    withfig(fig) do\n",
      "        x = [pt.x for pt in xs[1:N]]\n",
      "        y = [pt.y for pt in xs[1:N]]\n",
      "\n",
      "        line[:set_data](x, y)\n",
      "    end\n",
      "end"
     ],
     "language": "python",
     "metadata": {},
     "outputs": []
    },
    {
     "cell_type": "heading",
     "level": 1,
     "metadata": {},
     "source": [
      "Initial conditions"
     ]
    },
    {
     "cell_type": "code",
     "collapsed": false,
     "input": [
      "using BilliardModels\n",
      "include(\"../src/BilliardVisualisation.jl\")"
     ],
     "language": "python",
     "metadata": {},
     "outputs": []
    },
    {
     "cell_type": "code",
     "collapsed": false,
     "input": [
      "table = Sinai_billiard(0.1)"
     ],
     "language": "python",
     "metadata": {},
     "outputs": []
    },
    {
     "cell_type": "code",
     "collapsed": false,
     "input": [
      "isvalid(Vector2D(0.2, 0.), table)"
     ],
     "language": "python",
     "metadata": {},
     "outputs": []
    },
    {
     "cell_type": "code",
     "collapsed": false,
     "input": [
      "isvalid(Vector2D(0, 0), table)"
     ],
     "language": "python",
     "metadata": {},
     "outputs": []
    },
    {
     "cell_type": "code",
     "collapsed": false,
     "input": [
      "Plane([0.5, -0.5], [-1., 0.])"
     ],
     "language": "python",
     "metadata": {},
     "outputs": []
    },
    {
     "cell_type": "code",
     "collapsed": false,
     "input": [
      "isvalid(Vector2D(3,0), table)"
     ],
     "language": "python",
     "metadata": {},
     "outputs": []
    },
    {
     "cell_type": "code",
     "collapsed": false,
     "input": [
      "x, v = initial_condition(table, -0.5, 0.5, -0.5, 0.5)"
     ],
     "language": "python",
     "metadata": {},
     "outputs": []
    },
    {
     "cell_type": "code",
     "collapsed": false,
     "input": [
      "isvalid(x, table)"
     ],
     "language": "python",
     "metadata": {},
     "outputs": []
    },
    {
     "cell_type": "code",
     "collapsed": false,
     "input": [
      "include(\"../src/BilliardVisualisation.jl\")"
     ],
     "language": "python",
     "metadata": {},
     "outputs": []
    },
    {
     "cell_type": "code",
     "collapsed": false,
     "input": [
      "fig, axes = plt.subplots();"
     ],
     "language": "python",
     "metadata": {},
     "outputs": []
    },
    {
     "cell_type": "code",
     "collapsed": false,
     "input": [
      "table = Sinai_billiard(0.1)\n",
      "\n",
      "draw(table, axes);  # obstacles\n",
      "#sca(axes)\n",
      "axes[:axis](\"image\")\n",
      "\n",
      "#x, v = initial_condition(table, -0.5, 0.5, -0.5, 0.5)\n",
      "x = Vector2D(0.2, 0.2)\n",
      "v = Vector2D(0.1, 0.9)\n",
      "p = Particle(x, v)\n",
      "draw(p, axes, true);\n",
      "xs = billiard_dynamics(p, table, 20)\n",
      "draw(xs, axes);\n",
      "\n",
      "fig"
     ],
     "language": "python",
     "metadata": {},
     "outputs": []
    },
    {
     "cell_type": "heading",
     "level": 1,
     "metadata": {},
     "source": [
      "Lattice"
     ]
    },
    {
     "cell_type": "code",
     "collapsed": false,
     "input": [
      "using BilliardModels"
     ],
     "language": "python",
     "metadata": {},
     "outputs": []
    },
    {
     "cell_type": "code",
     "collapsed": false,
     "input": [
      "b = CellBoundary([0.5,0],[-1.,0.],Vector2D(0,0))\n",
      "b2 = CellBoundary([-0.5,0],[1.,0.],Vector2D(0,0))\n",
      "b.other_side = b2\n",
      "b2.other_side = b"
     ],
     "language": "python",
     "metadata": {},
     "outputs": []
    },
    {
     "cell_type": "code",
     "collapsed": false,
     "input": [
      "x = Vector2D(0.2, 0.2)\n",
      "v = Vector2D(1., 0.)\n",
      "p = Particle(x, v)\n",
      "collision_time(p,b)"
     ],
     "language": "python",
     "metadata": {},
     "outputs": []
    },
    {
     "cell_type": "code",
     "collapsed": false,
     "input": [
      "billiard_table = Sinai_billiard(0.1,true,true)"
     ],
     "language": "python",
     "metadata": {},
     "outputs": []
    },
    {
     "cell_type": "code",
     "collapsed": false,
     "input": [
      "isa(b,BilliardModels.AbstractPlane)"
     ],
     "language": "python",
     "metadata": {},
     "outputs": []
    },
    {
     "cell_type": "code",
     "collapsed": false,
     "input": [
      "x = Vector2D(0.2, 0.2)\n",
      "v = Vector2D(0.1, 0.9)\n",
      "l = Vector2D(0,0)\n",
      "p = ParticleOnLattice(x, v, l)\n",
      "xs, ls = billiard_dynamics_on_lattice(p, billiard_table, 3)"
     ],
     "language": "python",
     "metadata": {},
     "outputs": []
    },
    {
     "cell_type": "code",
     "collapsed": false,
     "input": [
      "ls"
     ],
     "language": "python",
     "metadata": {},
     "outputs": []
    },
    {
     "cell_type": "code",
     "collapsed": false,
     "input": [
      "using PyCall\n",
      "using PyPlot"
     ],
     "language": "python",
     "metadata": {},
     "outputs": []
    },
    {
     "cell_type": "code",
     "collapsed": false,
     "input": [
      "include(\"../src/BilliardVisualisation.jl\")"
     ],
     "language": "python",
     "metadata": {},
     "outputs": []
    },
    {
     "cell_type": "code",
     "collapsed": false,
     "input": [
      "fig, axes = plt.subplots();"
     ],
     "language": "python",
     "metadata": {},
     "outputs": []
    },
    {
     "cell_type": "code",
     "collapsed": false,
     "input": [
      "bdraw(billiard_table, axes);  # obstacles\n",
      "bdraw(p, axes, true);\n",
      "bdraw(xs+ls, axes);\n",
      "\n",
      "fig"
     ],
     "language": "python",
     "metadata": {},
     "outputs": []
    },
    {
     "cell_type": "code",
     "collapsed": false,
     "input": [
      "xs+ls"
     ],
     "language": "python",
     "metadata": {},
     "outputs": []
    },
    {
     "cell_type": "code",
     "collapsed": false,
     "input": [
      "xs"
     ],
     "language": "python",
     "metadata": {},
     "outputs": []
    },
    {
     "cell_type": "code",
     "collapsed": false,
     "input": [
      "ls"
     ],
     "language": "python",
     "metadata": {},
     "outputs": []
    },
    {
     "cell_type": "code",
     "collapsed": false,
     "input": [
      "positions = [xs[i]+ls[i] for i in 1:length(xs)]"
     ],
     "language": "python",
     "metadata": {},
     "outputs": []
    },
    {
     "cell_type": "code",
     "collapsed": false,
     "input": [
      "bdraw(xs+ls, axes);\n"
     ],
     "language": "python",
     "metadata": {},
     "outputs": []
    },
    {
     "cell_type": "code",
     "collapsed": false,
     "input": [
      "ls"
     ],
     "language": "python",
     "metadata": {},
     "outputs": []
    },
    {
     "cell_type": "code",
     "collapsed": false,
     "input": [
      "unique(ls)"
     ],
     "language": "python",
     "metadata": {},
     "outputs": []
    },
    {
     "cell_type": "code",
     "collapsed": false,
     "input": [],
     "language": "python",
     "metadata": {},
     "outputs": []
    }
   ],
   "metadata": {}
  }
 ]
}