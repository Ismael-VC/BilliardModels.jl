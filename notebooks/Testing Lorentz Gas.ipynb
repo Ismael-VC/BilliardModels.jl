{
 "metadata": {
  "language": "Julia",
  "name": "",
  "signature": "sha256:cb6685c073907c38e532564a9f840343e2e7a1eb75f3d5dd75e125da43979e0a"
 },
 "nbformat": 3,
 "nbformat_minor": 0,
 "worksheets": [
  {
   "cells": [
    {
     "cell_type": "code",
     "collapsed": false,
     "input": [
      "using BilliardModels\n",
      "\n",
      "using PyCall\n",
      "using PyPlot"
     ],
     "language": "python",
     "metadata": {},
     "outputs": []
    },
    {
     "cell_type": "markdown",
     "metadata": {},
     "source": [
      "[Link to heading](#Heading)"
     ]
    },
    {
     "cell_type": "heading",
     "level": 1,
     "metadata": {},
     "source": [
      "Basic object construction"
     ]
    },
    {
     "cell_type": "code",
     "collapsed": false,
     "input": [
      "w = Vector2D(3, 4)"
     ],
     "language": "python",
     "metadata": {},
     "outputs": []
    },
    {
     "cell_type": "code",
     "collapsed": false,
     "input": [
      "v = Vector2D([3., 4.])"
     ],
     "language": "python",
     "metadata": {},
     "outputs": []
    },
    {
     "cell_type": "code",
     "collapsed": false,
     "input": [
      "p = Particle(v,v)\n",
      "q = Particle(w,w)"
     ],
     "language": "python",
     "metadata": {},
     "outputs": []
    },
    {
     "cell_type": "code",
     "collapsed": false,
     "input": [
      "p = Particle([1.,2.],[3.,4.])"
     ],
     "language": "python",
     "metadata": {},
     "outputs": []
    },
    {
     "cell_type": "code",
     "collapsed": false,
     "input": [
      "d = Disc([1,2],3)"
     ],
     "language": "python",
     "metadata": {},
     "outputs": []
    },
    {
     "cell_type": "code",
     "collapsed": false,
     "input": [
      "d = Disc([1.,2.],3)"
     ],
     "language": "python",
     "metadata": {},
     "outputs": []
    },
    {
     "cell_type": "heading",
     "level": 2,
     "metadata": {},
     "source": [
      "Testing with validated numerics:"
     ]
    },
    {
     "cell_type": "code",
     "collapsed": false,
     "input": [
      "using ValidatedNumerics"
     ],
     "language": "python",
     "metadata": {},
     "outputs": []
    },
    {
     "cell_type": "code",
     "collapsed": false,
     "input": [
      "p = Particle([@interval(0.1), @interval(0.1)], [@interval(1), @interval(0)])"
     ],
     "language": "python",
     "metadata": {},
     "outputs": []
    },
    {
     "cell_type": "heading",
     "level": 1,
     "metadata": {},
     "source": [
      "Collisions"
     ]
    },
    {
     "cell_type": "code",
     "collapsed": false,
     "input": [
      "d = Disc([0, 0], 1)\n",
      "p = Particle([-2, 0], [1, 0])\n",
      "\n",
      "@assert collision_time(p, d) == 1\n",
      "\n",
      "p = Particle([0, 0], [1, 0])\n",
      "l = Plane([1, 0], [1, 0])\n",
      "@assert collision_time(p, l) == 1"
     ],
     "language": "python",
     "metadata": {},
     "outputs": []
    },
    {
     "cell_type": "code",
     "collapsed": false,
     "input": [
      "table = Sinai_billiard(0.1)"
     ],
     "language": "python",
     "metadata": {},
     "outputs": []
    },
    {
     "cell_type": "code",
     "collapsed": false,
     "input": [
      "p = Particle([0.3, 0], [1, 0.1])\n",
      "\n",
      "for obstacle in table.obstacles\n",
      "    @show obstacle\n",
      "    @show collision_time(p, obstacle)\n",
      "    println()\n",
      "end"
     ],
     "language": "python",
     "metadata": {},
     "outputs": []
    },
    {
     "cell_type": "code",
     "collapsed": false,
     "input": [
      "calculate_next_collision(p, table, nothing)"
     ],
     "language": "python",
     "metadata": {},
     "outputs": []
    },
    {
     "cell_type": "code",
     "collapsed": false,
     "input": [
      "xs = billiard_dynamics(p, table, 100)"
     ],
     "language": "python",
     "metadata": {},
     "outputs": []
    },
    {
     "cell_type": "code",
     "collapsed": false,
     "input": [
      "@pyimport matplotlib.patches as patches"
     ],
     "language": "python",
     "metadata": {},
     "outputs": []
    },
    {
     "cell_type": "code",
     "collapsed": false,
     "input": [
      "fig, axes = plt.subplots();"
     ],
     "language": "python",
     "metadata": {},
     "outputs": []
    },
    {
     "cell_type": "code",
     "collapsed": false,
     "input": [
      "include(\"../src/BilliardVisualisation.jl\")"
     ],
     "language": "python",
     "metadata": {},
     "outputs": []
    },
    {
     "cell_type": "code",
     "collapsed": false,
     "input": [
      "axes"
     ],
     "language": "python",
     "metadata": {},
     "outputs": []
    },
    {
     "cell_type": "code",
     "collapsed": false,
     "input": [
      "draw(table, axes);  # obstacles\n",
      "draw(xs, axes);  # trajectory\n",
      "#sca(axes)\n",
      "axes[:axis](\"image\")"
     ],
     "language": "python",
     "metadata": {},
     "outputs": []
    },
    {
     "cell_type": "code",
     "collapsed": false,
     "input": [
      "fig  # display the figure"
     ],
     "language": "python",
     "metadata": {},
     "outputs": []
    },
    {
     "cell_type": "code",
     "collapsed": false,
     "input": [
      "p2 = Particle([0.3, 0], [1, 0.101])\n",
      "xs2 = billiard_dynamics(p2, table, 100)\n",
      "draw(xs2, axes);\n",
      "fig"
     ],
     "language": "python",
     "metadata": {},
     "outputs": []
    },
    {
     "cell_type": "heading",
     "level": 1,
     "metadata": {},
     "source": [
      "Using widgets:"
     ]
    },
    {
     "cell_type": "code",
     "collapsed": false,
     "input": [
      "using BilliardModels\n",
      "\n",
      "using PyCall\n",
      "using PyPlot\n",
      "\n",
      "include(\"../src/BilliardVisualisation.jl\")"
     ],
     "language": "python",
     "metadata": {},
     "outputs": []
    },
    {
     "cell_type": "code",
     "collapsed": false,
     "input": [
      "using Interact"
     ],
     "language": "python",
     "metadata": {},
     "outputs": []
    },
    {
     "cell_type": "code",
     "collapsed": false,
     "input": [
      "fig, axes = plt.subplots();"
     ],
     "language": "python",
     "metadata": {},
     "outputs": []
    },
    {
     "cell_type": "code",
     "collapsed": false,
     "input": [
      "table = Sinai_billiard(0.1)\n",
      "\n",
      "max_particles = 10\n",
      "max_bounces = 50\n",
      "\n",
      "particles = Particle[]\n",
      "xxs = Any[]\n",
      "lines = Any[]\n",
      "\n",
      "x0 = Vector2D(0.3, 0.)\n",
      "\n",
      "for i in 1:max_particles\n",
      "    push!(particles, Particle(x0, Vector2D(1., 0.1+0.001*i)))\n",
      "    push!(xxs, billiard_dynamics(particles[i], table, max_bounces))\n",
      "    push!(lines, axes[:plot]([], [], alpha=0.3)[1])\n",
      "    \n",
      "end\n",
      "\n",
      "# xx1 = billiard_dynamics(p1, table, 50)  # returns a list of Vector2D\n",
      "# xx2 = billiard_dynamics(p2, table, 50)\n",
      "\n",
      "\n",
      "bdraw(table, axes)\n",
      "axes[:axis](\"image\")\n",
      "\n",
      "# line1 = axes[:plot]([], [])[1]\n",
      "# line2 = axes[:plot]([], [])[1]\n",
      "\n",
      "function draw_partial_line(line, xx)\n",
      "    x = [pt.x for pt in xx]\n",
      "    y = [pt.y for pt in xx]\n",
      "    \n",
      "    line[:set_data](x,y)\n",
      "end\n",
      "\n",
      "max_segment_length = max_bounces\n",
      "    \n",
      "@manipulate for num_particles=1:max_particles, n=1:max_bounces, segment_length=1:max_segment_length\n",
      "    withfig(fig) do\n",
      "        for i in 1:num_particles\n",
      "#         draw_partial_line(line1, xx1[1:n])\n",
      "#         draw_partial_line(line2, xx2[1:n])\n",
      "            draw_partial_line(lines[i], xxs[i][n:n+segment_length])\n",
      "        end\n",
      "        \n",
      "    end\n",
      "end"
     ],
     "language": "python",
     "metadata": {},
     "outputs": []
    },
    {
     "cell_type": "code",
     "collapsed": false,
     "input": [
      "fig"
     ],
     "language": "python",
     "metadata": {},
     "outputs": []
    },
    {
     "cell_type": "code",
     "collapsed": false,
     "input": [],
     "language": "python",
     "metadata": {},
     "outputs": []
    },
    {
     "cell_type": "heading",
     "level": 1,
     "metadata": {},
     "source": [
      "Initial conditions"
     ]
    },
    {
     "cell_type": "code",
     "collapsed": false,
     "input": [
      "using BilliardModels\n",
      "include(\"../src/BilliardVisualisation.jl\")"
     ],
     "language": "python",
     "metadata": {},
     "outputs": []
    },
    {
     "cell_type": "code",
     "collapsed": false,
     "input": [
      "table = Sinai_billiard(0.1)"
     ],
     "language": "python",
     "metadata": {},
     "outputs": []
    },
    {
     "cell_type": "code",
     "collapsed": false,
     "input": [
      "isvalid(Vector2D(0.2, 0.), table)"
     ],
     "language": "python",
     "metadata": {},
     "outputs": []
    },
    {
     "cell_type": "code",
     "collapsed": false,
     "input": [
      "isvalid(Vector2D(0, 0), table)"
     ],
     "language": "python",
     "metadata": {},
     "outputs": []
    },
    {
     "cell_type": "code",
     "collapsed": false,
     "input": [
      "Plane([0.5, -0.5], [-1., 0.])"
     ],
     "language": "python",
     "metadata": {},
     "outputs": []
    },
    {
     "cell_type": "code",
     "collapsed": false,
     "input": [
      "isvalid(Vector2D(3,0), table)"
     ],
     "language": "python",
     "metadata": {},
     "outputs": []
    },
    {
     "cell_type": "code",
     "collapsed": false,
     "input": [
      "x, v = initial_condition(table, -0.5, 0.5, -0.5, 0.5)"
     ],
     "language": "python",
     "metadata": {},
     "outputs": []
    },
    {
     "cell_type": "code",
     "collapsed": false,
     "input": [
      "isvalid(x, table)"
     ],
     "language": "python",
     "metadata": {},
     "outputs": []
    },
    {
     "cell_type": "code",
     "collapsed": false,
     "input": [
      "include(\"../src/BilliardVisualisation.jl\")"
     ],
     "language": "python",
     "metadata": {},
     "outputs": []
    },
    {
     "cell_type": "code",
     "collapsed": false,
     "input": [
      "fig, axes = plt.subplots();"
     ],
     "language": "python",
     "metadata": {},
     "outputs": []
    },
    {
     "cell_type": "code",
     "collapsed": false,
     "input": [
      "table = Sinai_billiard(0.1)\n",
      "\n",
      "draw(table, axes);  # obstacles\n",
      "#sca(axes)\n",
      "axes[:axis](\"image\")\n",
      "\n",
      "#x, v = initial_condition(table, -0.5, 0.5, -0.5, 0.5)\n",
      "x = Vector2D(0.2, 0.2)\n",
      "v = Vector2D(0.1, 0.9)\n",
      "\n",
      "1 = Particle(x, v)\n",
      "draw(p, axes, true);\n",
      "\n",
      "N = 20\n",
      "xs = billiard_dynamics(p, table, N)\n",
      "draw(xs, axes);\n",
      "\n",
      "fig"
     ],
     "language": "python",
     "metadata": {},
     "outputs": []
    },
    {
     "cell_type": "heading",
     "level": 1,
     "metadata": {},
     "source": [
      "Lattice"
     ]
    },
    {
     "cell_type": "code",
     "collapsed": false,
     "input": [
      "using BilliardModels"
     ],
     "language": "python",
     "metadata": {},
     "outputs": []
    },
    {
     "cell_type": "code",
     "collapsed": false,
     "input": [
      "b = CellBoundary([0.5,0],[-1.,0.],Vector2D(0,0))\n",
      "b2 = CellBoundary([-0.5,0],[1.,0.],Vector2D(0,0))\n",
      "b.other_side = b2\n",
      "b2.other_side = b"
     ],
     "language": "python",
     "metadata": {},
     "outputs": []
    },
    {
     "cell_type": "code",
     "collapsed": false,
     "input": [
      "x = Vector2D(0.2, 0.2)\n",
      "v = Vector2D(1., 0.)\n",
      "p = Particle(x, v)\n",
      "collision_time(p,b)"
     ],
     "language": "python",
     "metadata": {},
     "outputs": []
    },
    {
     "cell_type": "code",
     "collapsed": false,
     "input": [
      "billiard_table = Sinai_billiard(0.1,true,true)"
     ],
     "language": "python",
     "metadata": {},
     "outputs": []
    },
    {
     "cell_type": "code",
     "collapsed": false,
     "input": [
      "isa(b,BilliardModels.AbstractPlane)"
     ],
     "language": "python",
     "metadata": {},
     "outputs": []
    },
    {
     "cell_type": "code",
     "collapsed": false,
     "input": [
      "x = Vector2D(0.2, 0.2)\n",
      "v = Vector2D(0.1, 0.9)\n",
      "l = Vector2D(0,0)\n",
      "p = ParticleOnLattice(x, v, l)\n",
      "xs, ls = billiard_dynamics_on_lattice(p, billiard_table, 3)"
     ],
     "language": "python",
     "metadata": {},
     "outputs": []
    },
    {
     "cell_type": "code",
     "collapsed": false,
     "input": [
      "ls"
     ],
     "language": "python",
     "metadata": {},
     "outputs": []
    },
    {
     "cell_type": "code",
     "collapsed": false,
     "input": [
      "using PyCall\n",
      "using PyPlot"
     ],
     "language": "python",
     "metadata": {},
     "outputs": []
    },
    {
     "cell_type": "code",
     "collapsed": false,
     "input": [
      "include(\"../src/BilliardVisualisation.jl\")"
     ],
     "language": "python",
     "metadata": {},
     "outputs": []
    },
    {
     "cell_type": "code",
     "collapsed": false,
     "input": [
      "fig, axes = plt.subplots();"
     ],
     "language": "python",
     "metadata": {},
     "outputs": []
    },
    {
     "cell_type": "code",
     "collapsed": false,
     "input": [
      "bdraw(billiard_table, axes);  # obstacles\n",
      "bdraw(p, axes, true);\n",
      "bdraw(xs+ls, axes);\n",
      "\n",
      "fig"
     ],
     "language": "python",
     "metadata": {},
     "outputs": []
    }
   ],
   "metadata": {}
  }
 ]
}