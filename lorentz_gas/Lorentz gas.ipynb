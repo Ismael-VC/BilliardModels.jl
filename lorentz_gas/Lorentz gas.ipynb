{
 "metadata": {
  "language": "Julia",
  "name": ""
 },
 "nbformat": 3,
 "nbformat_minor": 0,
 "worksheets": [
  {
   "cells": [
    {
     "cell_type": "code",
     "collapsed": false,
     "input": [
      "type Disc\n",
      "    centre\n",
      "    radius\n",
      "end\n",
      "\n",
      "type Particle\n",
      "    x\n",
      "    v\n",
      "end"
     ],
     "language": "python",
     "metadata": {},
     "outputs": [],
     "prompt_number": 25
    },
    {
     "cell_type": "code",
     "collapsed": false,
     "input": [
      "function collision_time(p::Particle, disc::Disc)\n",
      "    \n",
      "    A = dot(p.v, p.v)  # 1 in principle, but varies in practice\n",
      "    B = dot(p.v, p.x-disc.centre)\n",
      "    C = dot(p.x-disc.centre, p.x-disc.centre) - disc.radius*disc.radius\n",
      "\n",
      "    discriminant = B*B - A*C\n",
      "\n",
      "    if discriminant < 0\n",
      "        return -1.\n",
      "    end\n",
      "    \n",
      "    return (-B - discriminant^0.5) / A  # suppose outside disc\n",
      "end\n",
      "\n",
      "\n",
      "function normal(disc::Disc, x)\n",
      "    # normal to disc at point x *on boundary*\n",
      "    return (x - disc.centre) / disc.radius\n",
      "end\n"
     ],
     "language": "python",
     "metadata": {},
     "outputs": [
      {
       "metadata": {},
       "output_type": "pyout",
       "prompt_number": 59,
       "text": [
        "normal (generic function with 2 methods)"
       ]
      }
     ],
     "prompt_number": 59
    },
    {
     "cell_type": "heading",
     "level": 1,
     "metadata": {},
     "source": [
      "Lorentz gas"
     ]
    },
    {
     "cell_type": "markdown",
     "metadata": {},
     "source": [
      "Use \"usual\" method: single square cell between $(-0.5, -0.5)$ and $(0.5, 0.5)$"
     ]
    },
    {
     "cell_type": "code",
     "collapsed": false,
     "input": [
      "type Plane\n",
      "    c  # point on plane\n",
      "    normal\n",
      "end"
     ],
     "language": "python",
     "metadata": {},
     "outputs": [],
     "prompt_number": 27
    },
    {
     "cell_type": "code",
     "collapsed": false,
     "input": [
      "collision_time(p::Particle, plane::Plane) =\n",
      "    dot(plane.c - p.x, plane.normal) / dot(p.v, plane.normal)\n",
      "\n",
      "normal(plane::Plane, x) = plane.normal"
     ],
     "language": "python",
     "metadata": {},
     "outputs": [
      {
       "metadata": {},
       "output_type": "pyout",
       "prompt_number": 51,
       "text": [
        "normal (generic function with 2 methods)"
       ]
      }
     ],
     "prompt_number": 51
    },
    {
     "cell_type": "code",
     "collapsed": false,
     "input": [
      "function collision(p::Particle, current_cell, boundaries, jump_directions)\n",
      "            \n",
      "    collision_times = \n",
      "        [collision_time(p, boundary) for boundary in boundaries]\n",
      "    \n",
      "    println(collision_times)\n",
      "    \n",
      "    min_collision_time = 100\n",
      "    which_hit = -1\n",
      "\n",
      "    for i in 1:length(collision_times)\n",
      "        collision_t = collision_times[i]\n",
      "     \n",
      "        if collision_t > 0\n",
      "            if collision_t < min_collision_time\n",
      "                which_hit, min_collision_time = i, collision_t\n",
      "            end\n",
      "        end\n",
      "    end\n",
      "    \n",
      "    new_cell = current_cell\n",
      "    \n",
      "    x_new = p.x + p.v*min_collision_time \n",
      "    \n",
      "    \n",
      "    if which_hit == 1\n",
      "        n = normal(boundaries[1], x_new)\n",
      "\n",
      "        v_new = p.v - 2*n*dot(n, p.v)  # reflejar solo si es disco; si es plano, pasar a traves\n",
      "\n",
      "    else\n",
      "        # hit plane, so periodise\n",
      "        jump = jump_directions[which_hit]  \n",
      "        # print \"jump = \", jump\n",
      "\n",
      "        new_cell += jump\n",
      "        x_new -= jump  # this is supposing that we are in exactly unit cell\n",
      "        \n",
      "        v_new = p.v\n",
      "    end\n",
      "        \n",
      "    return x_new, v_new, new_cell, min_collision_time\n",
      "end\n",
      "    "
     ],
     "language": "python",
     "metadata": {},
     "outputs": [
      {
       "metadata": {},
       "output_type": "pyout",
       "prompt_number": 76,
       "text": [
        "collision (generic function with 1 method)"
       ]
      }
     ],
     "prompt_number": 76
    },
    {
     "cell_type": "markdown",
     "metadata": {},
     "source": [
      "NB: As usual, must take care with the object that we're currently on. Here it worked, but in general it might not?"
     ]
    },
    {
     "cell_type": "markdown",
     "metadata": {},
     "source": [
      "If hit a wall, then update the current cell and impose periodic boundary conditions"
     ]
    },
    {
     "cell_type": "code",
     "collapsed": false,
     "input": [
      "boundaries = {}\n",
      "\n",
      "radius = 1/3\n",
      "\n",
      "push!(boundaries, Disc([0., 0.], radius) )\n",
      "\n",
      "push!(boundaries, Plane([-0.5, -0.5], [0., -1.]) )\n",
      "push!(boundaries, Plane([0.5, -0.5], [1., 0.]) )\n",
      "push!(boundaries, Plane([0.5, 0.5], [0., 1.]) )\n",
      "push!(boundaries, Plane([-0.5, 0.5], [-1., 0.]) )\n",
      "\n",
      "jump_directions = {[0.,0.]}  # dummy\n",
      "jump_directions\n",
      "\n",
      "for boundary in boundaries[2:end]\n",
      "    push!(jump_directions, normal(boundary, 0))\n",
      "end\n",
      "\n",
      "jump_directions"
     ],
     "language": "python",
     "metadata": {},
     "outputs": [
      {
       "metadata": {},
       "output_type": "pyout",
       "prompt_number": 77,
       "text": [
        "5-element Array{Any,1}:\n",
        " [0.0,0.0] \n",
        " [0.0,-1.0]\n",
        " [1.0,0.0] \n",
        " [0.0,1.0] \n",
        " [-1.0,0.0]"
       ]
      }
     ],
     "prompt_number": 77
    },
    {
     "cell_type": "code",
     "collapsed": false,
     "input": [
      "total_time = 0\n",
      "t_final = 10\n",
      "\n",
      "step = 1\n",
      "\n",
      "# Initial condition:\n",
      "\n",
      "x0, y0 = -0.5, 0.1\n",
      "u0, v0 = 1.0, 0.0\n",
      "\n",
      "current_cell = [1, 0]\n",
      "\n",
      "p = Particle([x0, y0], [u0, v0])\n",
      "total_time = 0\n",
      "\n",
      "while total_time < t_final\n",
      "    x_new, v_new, new_cell, collision_t = \n",
      "        collision(p, current_cell, boundaries, jump_directions)\n",
      "    \n",
      "    if total_time + collision_t < t_final\n",
      "        total_time += collision_t\n",
      "        current_cell = new_cell\n",
      "        \n",
      "        p.x, p.v = x_new, v_new\n",
      "        \n",
      "    else\n",
      "        collision_t = t_final - total_time\n",
      "        \n",
      "        x_new = p.x + p.v*collision_t\n",
      "        x_new += current_cell\n",
      "        \n",
      "        println(\"Position at time \", t_final, \" = \", x_new)\n",
      "        println(\"Cell: \", current_cell)\n",
      "        println(\"Distance from origin = \", dot(x_new, x_new)^0.5)\n",
      "        \n",
      "        break\n",
      "    end\n",
      "    \n",
      "    println(p.x[1] + current_cell[1], \"\\t\", p.x[2] + current_cell[2])\n",
      "    \n",
      "    step += 1\n",
      "end"
     ],
     "language": "python",
     "metadata": {},
     "outputs": [
      {
       "output_type": "stream",
       "stream": "stdout",
       "text": [
        ".18202026619435147\n",
        "Inf\n",
        "1\n",
        "Inf\n",
        "0\n",
        "\n"
       ]
      },
      {
       "output_type": "stream",
       "stream": "stdout",
       "text": [
        "0.6820202661943515\t0.1\n",
        "-.6359594676112971\n",
        "-1.048284836721918\n",
        "-.9975362607385956\n",
        ".6988565578146121\n",
        ".22197593438335542\n",
        "\n",
        "0.5\t0.22705092734766308\n",
        "-1\n",
        "-1.2702607711052736\n",
        "0\n",
        ".4768806234312566\n",
        "1.2195121951219512\n",
        "\n",
        "0.10895788878636958\t0.5\n",
        "-1\n",
        "0\n",
        "-.4768806234312566\n",
        "1.7471413945365302\n",
        ".7426315716906946\n",
        "\n",
        "-0.5\t0.9250552210673795\n",
        ".20670697412803862\n",
        "-.7426315716906946\n",
        "0\n",
        "1.0045098228458356\n",
        "1.2195121951219512\n",
        "\n",
        "-0.6694997187849917\t1.0433667525635881\n",
        "-.4923773668223469\n",
        "-.7107118190204273\n",
        ".2629624210232283\n",
        ".5972662927563975\n",
        "-1.288440866888965\n",
        "\n",
        "-0.5\t1.2444117231602343\n",
        "-1\n",
        "-.9736742400436557\n",
        "1.5514032879121933\n",
        ".33430387173316917\n",
        "0\n",
        "\n",
        "-0.2845151713046452\t1.5\n",
        ".24922006998791513\n",
        "0\n",
        "1.217099416179024\n",
        "1.3079781117768248\n",
        "-.33430387173316917\n",
        "\n",
        "-0.12387346586949433\t1.6905384101950771\n",
        "-.632882930793927\n",
        ".19089388638567004\n",
        "-10.227619077901599\n",
        "-.8109717541968715\n",
        "6.1661204180510545\n",
        "\n",
        "-0.13551778206915083\t1.5\n",
        ".20160857110623065\n",
        "1.0018656405825415\n",
        "-10.41851296428727\n",
        "0\n",
        "5.975226531665384\n",
        "\n",
        "-0.14781568220084468\t1.298766857610763\n",
        "-.5783878213237889\n",
        "-1.4338196868085709\n",
        "-.780076001160415\n",
        ".36122184896239296\n",
        ".42408750181351446\n",
        "\n",
        "-0.4477930923036101\t1.5\n",
        "-1\n",
        "0\n",
        "-1.141297850122808\n",
        "1.795041535770964\n",
        ".06286565285112147\n",
        "\n",
        "-0.5\t1.5350218374329265\n",
        ".358770667048938\n",
        "-.06286565285112147\n",
        "0\n",
        "1.7321758829198424\n",
        "1.2041635029739293\n",
        "\n",
        "-0.7979418211587381\t1.7348894504655394\n",
        "-.6309802049327585\n",
        ".24766254552375266\n",
        ".9398784026850044\n",
        "-.8067166317142956\n",
        "-2.2146918386785064\n",
        "\n",
        "-0.7194326973876647\t1.5\n",
        "-1\n",
        "1.0543791772380484\n",
        ".6922158571612517\n",
        "0\n",
        "-2.4623543842022593\n",
        "\n",
        "-0.5\t0.8434848941397775\n",
        "-1\n",
        ".3621633200767967\n",
        "3.154570241363511\n",
        "-.6922158571612517\n",
        "0\n",
        "\n",
        "-0.38519408592396487\t0.5\n",
        ".33491274329162035\n",
        "1.0543791772380484\n",
        "2.7924069212867146\n",
        "0\n",
        "-.3621633200767967\n",
        "\n",
        "-0.279026615344245\t0.18236024523082295\n",
        "-.5228132718381105\n",
        "7.551390472753641\n",
        "-.782226729718517\n",
        "-3.515184002433174\n",
        ".22188110730686872\n",
        "\n",
        "-0.5\t0.16231058055776945\n",
        ".20029622298004823\n",
        "7.329509365446772\n",
        "0\n",
        "-3.7370651097400422\n",
        "1.0041078370253858\n",
        "\n",
        "-0.699476804775685\t0.14421137348794427\n",
        "-.6246500041205416\n",
        "-.8942753345354102\n",
        ".2876015538823071\n",
        ".49389533636341026\n",
        "-1.1541778760906156\n",
        "\n",
        "-0.5\t0.351391628705474\n",
        "-1\n",
        "-1.1818768884177173\n",
        "1.4417794299729227\n",
        ".20629378248110314\n",
        "0\n",
        "\n",
        "-0.3569172383843918\t0.5\n",
        ".28669663292103925\n",
        "0\n",
        "1.2354856474918197\n",
        "1.3881706708988206\n",
        "-.20629378248110314\n",
        "\n",
        "-0.15806807535643577\t0.7065283750271192\n",
        "-.6420858268930862\n",
        ".21170819235489896\n",
        "-2.9932312017794955\n",
        "-.8133722225135162\n",
        "1.555281807544415\n",
        "\n",
        "-0.204612559657332\t0.5\n",
        ".31908565702074687\n",
        "1.0250804148684152\n",
        "-3.204939394134395\n",
        "0\n",
        "1.343573615189516\n",
        "\n",
        "-0.2747642018240487\t0.1887213408894302\n",
        "-.2473929185006282\n",
        "1.240183372211311\n",
        "-.9316274038224324\n",
        "-.5605207712231154\n",
        ".2708383291439028\n",
        "\n",
        "-0.5\t0.03831444027146341\n",
        ".2119441065425507\n",
        ".9693450430674084\n",
        "0\n",
        "-.8313591003670182\n",
        "1.2024657329663353\n",
        "\n",
        "-0.6762579179863285\t-0.07938624216175205\n",
        "-.4502912700944791\n",
        ".4795720051086751\n",
        ".3669138512983789\n",
        "-.6605999368968458\n",
        "-1.7147733460213959\n",
        "\n",
        "-0.5\t-0.40119196091412795\n",
        "-1\n",
        ".11265815381029615\n",
        "2.081687197319775\n",
        "-1.0275137881952248\n",
        "0\n",
        "\n",
        "-0.4458813245547427\t-0.5\n",
        ".35548907553788006\n",
        "1.140171942005521\n",
        "1.9690290435094786\n",
        "0\n",
        "-.11265815381029613\n",
        "\n",
        "-0.2751116354316212\t-0.8117854969423188\n",
        "-.5944671051538022\n",
        "-5.297002334655456\n",
        "-.7817378109001222\n",
        "2.399729296429481\n",
        ".22681086153054153\n",
        "\n",
        "-0.5\t-0.7823170326120158\n",
        ".28786255453862764\n",
        "-5.523813196185998\n",
        "0\n",
        "2.1729184348989397\n",
        "1.0085486724306636\n",
        "\n",
        "-0.7854225704792822\t-0.7449164100703604\n",
        "-.35923363856741797\n",
        "-.790964314732031\n",
        "-.9585242977435589\n",
        ".25655456301994717\n",
        "2.399739542898065\n",
        "\n",
        "-0.8618175695603938\t-0.5\n",
        ".18556439368294747\n",
        "0\n",
        "-1.215078860763506\n",
        "1.0475188777519782\n",
        "2.143184979878118\n",
        "\n",
        "-0.9170736192600188\t-0.32285341331396633\n",
        "-.6658019155294418\n",
        ".18076716215776506\n",
        "2.0943741436440493\n",
        "-.8396711400385304\n",
        "-2.927219279982057\n",
        "\n",
        "-0.8810756507054017\t-0.5\n",
        ".21251850352434812\n",
        "1.0204383021962955\n",
        "1.9136069814862844\n",
        "0\n",
        "-3.1079864421398216\n",
        "\n",
        "-0.8387547207542692\t-0.7082619821962223\n",
        "-.5075688639575155\n",
        "-2.244644308326118\n",
        ".36202274584420396\n",
        ".5904403508046815\n",
        "-.7066641938923887\n",
        "\n",
        "Position at time 10 = -.7362939652097058\n",
        "-.6696393361551727\n",
        "\n",
        "Cell: -1\n",
        "-1\n",
        "\n",
        "Distance from origin = 0.9952615956272862\n"
       ]
      }
     ],
     "prompt_number": 78
    },
    {
     "cell_type": "code",
     "collapsed": false,
     "input": [
      "total_time"
     ],
     "language": "python",
     "metadata": {},
     "outputs": [
      {
       "html": [
        "Intervalo[mpfr('9.89050291525566032388115271805922028',113), mpfr('9.89050309143193726443540722572849862',113)]"
       ],
       "latex": [
        "$[mpfr('9.89050291525566032388115271805922028',113), mpfr('9.89050309143193726443540722572849862',113)]$"
       ],
       "metadata": {},
       "output_type": "pyout",
       "prompt_number": 130,
       "text": [
        "Intervalo[mpfr('9.89050291525566032388115271805922028',113), mpfr('9.89050309143193726443540722572849862',113)]"
       ]
      }
     ],
     "prompt_number": 130
    },
    {
     "cell_type": "code",
     "collapsed": false,
     "input": [
      "current_cell"
     ],
     "language": "python",
     "metadata": {},
     "outputs": [
      {
       "metadata": {},
       "output_type": "pyout",
       "prompt_number": 131,
       "text": [
        "array([ 0, -1])"
       ]
      }
     ],
     "prompt_number": 131
    },
    {
     "cell_type": "code",
     "collapsed": false,
     "input": [
      "x + v*collision_time"
     ],
     "language": "python",
     "metadata": {},
     "outputs": [
      {
       "metadata": {},
       "output_type": "pyout",
       "prompt_number": 27,
       "text": [
        "array([ Intervalo[mpfr('0.26370730139038168902058220382030873454837241345',150), mpfr('0.26370730139038168942794345244690778954608378716',150)],\n",
        "       Intervalo[mpfr('0.3303573036364286244815031050014474010615958779',150), mpfr('0.33035730363642862512974475306435575876490835829',150)]], dtype=object)"
       ]
      }
     ],
     "prompt_number": 27
    },
    {
     "cell_type": "code",
     "collapsed": false,
     "input": [
      "_ + current_cell"
     ],
     "language": "python",
     "metadata": {},
     "outputs": [
      {
       "metadata": {},
       "output_type": "pyout",
       "prompt_number": 28,
       "text": [
        "array([ Intervalo[mpfr('2.2637073013903816890205822038203087345483724124',150), mpfr('2.2637073013903816894279434524469077895460837896',150)],\n",
        "       Intervalo[mpfr('-0.66964269636357137551849689499855259893840412245',150), mpfr('-0.66964269636357137487025524693564424123509164136',150)]], dtype=object)"
       ]
      }
     ],
     "prompt_number": 28
    },
    {
     "cell_type": "code",
     "collapsed": false,
     "input": [
      "v_new"
     ],
     "language": "python",
     "metadata": {},
     "outputs": [
      {
       "metadata": {},
       "output_type": "pyout",
       "prompt_number": 39,
       "text": [
        "array([ Intervalo[mpfr('0.93573371537700371751965178786986868326686729165',150), mpfr('0.93573371537700371863027197240750122914529344485',150)],\n",
        "       Intervalo[mpfr('0.35270726375671453489363660036510489650351547479',150), mpfr('0.35270726375671453764309154176758659707249634574',150)]], dtype=object)"
       ]
      }
     ],
     "prompt_number": 39
    },
    {
     "cell_type": "code",
     "collapsed": false,
     "input": [
      "norm =np.dot(v_new, v_new)**0.5"
     ],
     "language": "python",
     "metadata": {},
     "outputs": [],
     "prompt_number": 41
    },
    {
     "cell_type": "code",
     "collapsed": false,
     "input": [
      "v_new /= norm"
     ],
     "language": "python",
     "metadata": {},
     "outputs": [
      {
       "output_type": "stream",
       "stream": "stderr",
       "text": [
        "-c:1: RuntimeWarning: invalid value encountered in divide\n"
       ]
      }
     ],
     "prompt_number": 42
    },
    {
     "cell_type": "code",
     "collapsed": false,
     "input": [
      "v_new"
     ],
     "language": "python",
     "metadata": {},
     "outputs": [
      {
       "metadata": {},
       "output_type": "pyout",
       "prompt_number": 43,
       "text": [
        "array([ Intervalo[mpfr('0.93573371537700371657970844939833905688708486047',150), mpfr('0.93573371537700371957021531087903085718785884294',150)],\n",
        "       Intervalo[mpfr('0.35270726375671453453934259818193631395039985808',150), mpfr('0.35270726375671453799738554395075518259368009047',150)]], dtype=object)"
       ]
      }
     ],
     "prompt_number": 43
    },
    {
     "cell_type": "code",
     "collapsed": false,
     "input": [
      "norm"
     ],
     "language": "python",
     "metadata": {},
     "outputs": [
      {
       "html": [
        "Intervalo[mpfr('0.9999999999999999989955012595727301900221811843',150), mpfr('1.000000000000000001004498740427269811411108423',150)]"
       ],
       "latex": [
        "$[mpfr('0.9999999999999999989955012595727301900221811843',150), mpfr('1.000000000000000001004498740427269811411108423',150)]$"
       ],
       "metadata": {},
       "output_type": "pyout",
       "prompt_number": 44,
       "text": [
        "Intervalo[mpfr('0.9999999999999999989955012595727301900221811843',150), mpfr('1.000000000000000001004498740427269811411108423',150)]"
       ]
      }
     ],
     "prompt_number": 44
    },
    {
     "cell_type": "code",
     "collapsed": false,
     "input": [
      "v_new = v_new / norm"
     ],
     "language": "python",
     "metadata": {},
     "outputs": [],
     "prompt_number": 45
    },
    {
     "cell_type": "code",
     "collapsed": false,
     "input": [
      "v_new"
     ],
     "language": "python",
     "metadata": {},
     "outputs": [
      {
       "metadata": {},
       "output_type": "pyout",
       "prompt_number": 46,
       "text": [
        "array([ Intervalo[mpfr('0.93573371537700371563976511092680943145147432873',150), mpfr('0.93573371537700372051015864935056048617459614048',150)],\n",
        "       Intervalo[mpfr('0.35270726375671453418504859599876773175317212024',150), mpfr('0.35270726375671453835167954613392376847075171408',150)]], dtype=object)"
       ]
      }
     ],
     "prompt_number": 46
    },
    {
     "cell_type": "code",
     "collapsed": false,
     "input": [
      "np.dot(v_new, v_new)**0.5"
     ],
     "language": "python",
     "metadata": {},
     "outputs": [
      {
       "html": [
        "Intervalo[mpfr('0.99999999999999999698650377871819057224505293491',150), mpfr('1.0000000000000000030134962212818094364118346545',150)]"
       ],
       "latex": [
        "$[mpfr('0.99999999999999999698650377871819057224505293491',150), mpfr('1.0000000000000000030134962212818094364118346545',150)]$"
       ],
       "metadata": {},
       "output_type": "pyout",
       "prompt_number": 47,
       "text": [
        "Intervalo[mpfr('0.99999999999999999698650377871819057224505293491',150), mpfr('1.0000000000000000030134962212818094364118346545',150)]"
       ]
      }
     ],
     "prompt_number": 47
    },
    {
     "cell_type": "code",
     "collapsed": false,
     "input": [
      "print x"
     ],
     "language": "python",
     "metadata": {},
     "outputs": [
      {
       "output_type": "stream",
       "stream": "stdout",
       "text": [
        "[ Intervalo[mpfr('0.16124726988664228637485275433535497808649976926',150), mpfr('0.16124726988664228643198769163419578745471155357',150)]\n",
        " Intervalo[mpfr('0.2917369175562384232203528751992515907485220364',150), mpfr('0.29173691755623842348136467612883468680460750687',150)]]\n"
       ]
      }
     ],
     "prompt_number": 48
    },
    {
     "cell_type": "code",
     "collapsed": false,
     "input": [
      "print x[0].lo"
     ],
     "language": "python",
     "metadata": {},
     "outputs": [
      {
       "output_type": "stream",
       "stream": "stdout",
       "text": [
        "0.16124726988664228637485275433535497808649976926\n"
       ]
      }
     ],
     "prompt_number": 51
    },
    {
     "cell_type": "code",
     "collapsed": false,
     "input": [
      "!cat > traj_data.txt"
     ],
     "language": "python",
     "metadata": {},
     "outputs": [
      {
       "output_type": "stream",
       "stream": "stdout",
       "text": [
        "^C\r\n"
       ]
      }
     ],
     "prompt_number": 72
    },
    {
     "cell_type": "code",
     "collapsed": false,
     "input": [
      "%%file traj_data.txt\n",
      "0.68202026619435145028245947132559115324845885773 0.099999999999999999999999999999999999999999999982\n",
      "0.49999999999999999999999999999999999999999999159 0.22705092734766304237291033634996092936144759148\n",
      "0.10895788878636944859370511195632685800392315298 0.49999999999999999999999999999999999999999998879\n",
      "-0.50000000000000000000000000000000000000000006726 0.92505522106737937102117003344012669052336713928\n",
      "-0.66949971878499157782762681270991945217191819155 1.0433667525635879516245437589750101379725700315\n",
      "-0.50000000000000000000000000000000000000000319286 1.2444117231602329585810255648495983297689872829\n",
      "-0.28451517130464322334975070789145050124385320982 1.4999999999999999999999999999999999999999938511\n",
      "-0.1238734658694923578816948253061218544825130255 1.6905384101950763534282426280057838377693872142\n",
      "-0.13551778206914598167731943872062006056416067179 1.499999999999999999999999999999999999999690662\n",
      "-0.14781568220083659098114755320298994919768229892 1.2987668576107671145813749969285606041191551845\n",
      "-0.44779309230355093753598629674999125185628939811 1.4999999999999999999999999999999999999717871423\n",
      "-0.5000000000000000000000000000000000000513491501 1.5350218374329714602742352316212550844298681759\n",
      "-0.79794182115868580085391081599951443703107026625 1.7348894504655791748450567344687111415301835632\n",
      "-0.7194326973874780672298780315793317459624385128 1.4999999999999999999999999999999999973254723062\n",
      "-0.50000000000000000000000000000000000967467887639 0.8434848941413480392185351128490631082155764142\n",
      "-0.38519408592326289410411199985370273954967468265 0.49999999999999999999999999999999995685613938933\n",
      "-0.27902661534367222991097320641238673454465060724 0.18236024523169924721310491236212585434455297111\n",
      "-0.50000000000000000000000000000000116589860468587 0.16231058056009643072878627159392009520584921267\n",
      "-0.6994768047773788031454421932366070967821446661 0.14421137349147403274876546718114433076002685644\n",
      "-0.50000000000000000000000000000009744379572354887 0.35139162872330028725457074316785287104687295343\n",
      "-0.35691723841021377513536034207911196216052177138 0.49999999999999999999999999999984764592080595207\n",
      "-0.15806807538136367300869176622968966665514170995 0.70652837504054562748749188170989839290682775171\n",
      "-0.20461255972871497154344807531450993788654851582 0.49999999999999999999999999999105368397745570164\n",
      "-0.27476420202771383991874165409434533064380722962 0.18872134059290900684454755591960313200813200792\n",
      "-0.50000000000000000000000000055038180204426335726 0.038314439342847379314039839117109530579237047174\n",
      "-0.6762579184348800163896277589966629931089616792 -0.079386243990973088324051598467347975303248585011\n",
      "-0.50000000000000000000000005207921165943954690332 -0.40119197399501937494215649580536448572208689254\n",
      "-0.4458813334738371534423816669427822027246410677 -0.50000000000000000000000012533957592375968062449\n",
      "-0.27511164345972386282960337034470370669003538134 -0.81178550867693293515674338644434827623107926176\n",
      "-0.5000000000000000000000051806094114902179636889 -0.78231706803727681330899433914006746255442509721\n",
      "-0.78542248013781373683740994521351100315607162982 -0.74491648606602548443657860632073265469874495956\n",
      "-0.86181728596647314991544997947090497709563653553 -0.50000000000000000000023188492678511614049658036\n",
      "-0.91707321141806633208163139738534242099558867446 -0.32285330855761473356761102814226933172313862415\n",
      "-0.88107460662035075501767489284178024033561156691 -0.50000000000000000001406697371665099339821237825\n",
      "-0.83875273011335771362514724566464502191350023057 -0.7082630824437615767796471248007484092514779636"
     ],
     "language": "python",
     "metadata": {},
     "outputs": [
      {
       "output_type": "stream",
       "stream": "stdout",
       "text": [
        "Overwriting traj_data.txt\n"
       ]
      }
     ],
     "prompt_number": 73
    },
    {
     "cell_type": "code",
     "collapsed": false,
     "input": [
      "xx, yy = np.loadtxt(\"traj_data.txt\", unpack=True)"
     ],
     "language": "python",
     "metadata": {},
     "outputs": [],
     "prompt_number": 78
    },
    {
     "cell_type": "code",
     "collapsed": false,
     "input": [
      "%matplotlib inline\n",
      "from matplotlib import pyplot as plt"
     ],
     "language": "python",
     "metadata": {},
     "outputs": [],
     "prompt_number": 79
    },
    {
     "cell_type": "code",
     "collapsed": false,
     "input": [
      "plt.plot(xx, yy)\n",
      "plt.axis(\"equal\")"
     ],
     "language": "python",
     "metadata": {},
     "outputs": [
      {
       "metadata": {},
       "output_type": "pyout",
       "prompt_number": 80,
       "text": [
        "(-1.0, 0.80000000000000004, -1.0, 2.0)"
       ]
      },
      {
       "metadata": {},
       "output_type": "display_data",
       "png": "[encoded data removed]",
       "text": [
        "<matplotlib.figure.Figure at 0x10d402190>"
       ]
      }
     ],
     "prompt_number": 80
    },
    {
     "cell_type": "code",
     "collapsed": false,
     "input": [
      "Intervalo(1, 2)**.5"
     ],
     "language": "python",
     "metadata": {},
     "outputs": [
      {
       "html": [
        "Intervalo[mpfr('1.0',150), mpfr('1.4142135623730950488016887242096980785696718765',150)]"
       ],
       "latex": [
        "$[mpfr('1.0',150), mpfr('1.4142135623730950488016887242096980785696718765',150)]$"
       ],
       "metadata": {},
       "output_type": "pyout",
       "prompt_number": 111,
       "text": [
        "Intervalo[mpfr('1.0',150), mpfr('1.4142135623730950488016887242096980785696718765',150)]"
       ]
      }
     ],
     "prompt_number": 111
    },
    {
     "cell_type": "code",
     "collapsed": false,
     "input": [],
     "language": "python",
     "metadata": {},
     "outputs": []
    }
   ],
   "metadata": {}
  }
 ]
}